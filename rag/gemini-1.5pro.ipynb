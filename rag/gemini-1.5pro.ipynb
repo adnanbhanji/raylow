{
 "cells": [
  {
   "cell_type": "code",
   "execution_count": 68,
   "metadata": {},
   "outputs": [
    {
     "name": "stdout",
     "output_type": "stream",
     "text": [
      "Total number of pages: 32\n",
      "Total number of documents (chunks):  55\n",
      "The provided text does not describe the steps on how to create a CSRD report. Therefore, I cannot answer your question. \n",
      "\n"
     ]
    }
   ],
   "source": [
    "from langchain_community.document_loaders import PyPDFLoader\n",
    "from langchain.text_splitter import RecursiveCharacterTextSplitter\n",
    "from langchain_chroma import Chroma\n",
    "from langchain_google_genai import GoogleGenerativeAIEmbeddings\n",
    "from dotenv import load_dotenv\n",
    "from langchain_google_genai import ChatGoogleGenerativeAI\n",
    "from langchain.chains import create_retrieval_chain\n",
    "from langchain.chains.combine_documents import create_stuff_documents_chain\n",
    "from langchain_core.prompts import ChatPromptTemplate\n",
    "\n",
    "# Load .env for API keys\n",
    "load_dotenv()\n",
    "\n",
    "# Step 1: Load PDF and Split into Chunks\n",
    "loader = PyPDFLoader(\"../data/celsia_ebook.pdf\")\n",
    "data = loader.load()  # Entire PDF loaded as a single Document\n",
    "print(\"Total number of pages:\", len(data))  # We have 32 pages\n",
    "\n",
    "# Step 2: Split the loaded PDF into manageable chunks\n",
    "text_splitter = RecursiveCharacterTextSplitter(chunk_size=1000)\n",
    "docs = text_splitter.split_documents(data)\n",
    "print(\"Total number of documents (chunks): \", len(docs))\n",
    "\n",
    "# Step 3: Initialize Embeddings\n",
    "embeddings = GoogleGenerativeAIEmbeddings(model=\"models/embedding-001\")\n",
    "\n",
    "# Step 4: Create Vector Store from Documents\n",
    "vectorstore = Chroma.from_documents(documents=docs, embedding=embeddings)\n",
    "\n",
    "# Step 5: Create Retriever with Similarity Search\n",
    "retriever = vectorstore.as_retriever(search_type=\"similarity\", search_kwargs={\"k\": 10})\n",
    "\n",
    "# Step 6: Setup LLM for Answer Generation\n",
    "llm = ChatGoogleGenerativeAI(model=\"gemini-1.5-pro\", temperature=0.3, max_tokens=10000)\n",
    "\n",
    "# Step 7: Define System Prompt for Contextualized Answer Generation\n",
    "system_prompt = (\n",
    "    \"You are an assistant for question-answering tasks. \"\n",
    "    \"Use the following pieces of retrieved context to answer \"\n",
    "    \"the question. If you don't know the answer, say that you \"\n",
    "    \"don't know. Use as many sentences as needed to answer the question. \"\n",
    "    \"\\n\\n\"\n",
    "    \"{context}\"\n",
    ")\n",
    "\n",
    "# Step 8: Create Chat Prompt Template\n",
    "prompt = ChatPromptTemplate.from_messages(\n",
    "    [\n",
    "        (\"system\", system_prompt),\n",
    "        (\"human\", \"{input}\"),\n",
    "    ]\n",
    ")\n",
    "\n",
    "# Step 9: Create the RAG Chain for Document-Based Answer Generation\n",
    "question_answer_chain = create_stuff_documents_chain(llm, prompt)\n",
    "rag_chain = create_retrieval_chain(retriever, question_answer_chain)\n",
    "\n",
    "# Step 10: Function to Query and Get Contextual Answer\n",
    "def get_answer(query):\n",
    "    # Step 10.1: Retrieve relevant documents based on the query\n",
    "    retrieved_docs = retriever.invoke(query)\n",
    "    \n",
    "    # Step 10.2: Extract the page content of the retrieved documents\n",
    "    context = \"\\n\\n\".join([doc.page_content for doc in retrieved_docs])\n",
    "    \n",
    "    # Step 10.3: Generate an answer based on the retrieved documents\n",
    "    response = rag_chain.invoke({\"input\": query, \"context\": context})\n",
    "    \n",
    "    return response[\"answer\"]\n",
    "\n",
    "# Step 11: Example Query\n",
    "query = \"Exactly how do you create a CSRD report? what are the steps?\"\n",
    "answer = get_answer(query)\n",
    "print(answer)\n"
   ]
  }
 ],
 "metadata": {
  "kernelspec": {
   "display_name": "env",
   "language": "python",
   "name": "python3"
  },
  "language_info": {
   "codemirror_mode": {
    "name": "ipython",
    "version": 3
   },
   "file_extension": ".py",
   "mimetype": "text/x-python",
   "name": "python",
   "nbconvert_exporter": "python",
   "pygments_lexer": "ipython3",
   "version": "3.12.4"
  }
 },
 "nbformat": 4,
 "nbformat_minor": 2
}
